{
 "cells": [
  {
   "cell_type": "code",
   "execution_count": 17,
   "metadata": {
    "ExecuteTime": {
     "end_time": "2020-11-03T05:43:01.395094Z",
     "start_time": "2020-11-03T05:43:01.392092Z"
    }
   },
   "outputs": [],
   "source": [
    "from glob import glob\n",
    "\n",
    "import nibabel as nib\n",
    "from nibabel.brikhead import *"
   ]
  },
  {
   "cell_type": "markdown",
   "metadata": {},
   "source": [
    "## Reading the data"
   ]
  },
  {
   "cell_type": "markdown",
   "metadata": {},
   "source": [
    "### Header: `.head` files"
   ]
  },
  {
   "cell_type": "code",
   "execution_count": null,
   "metadata": {},
   "outputs": [],
   "source": [
    "header = AFNIHeader(parse_AFNI_header('./s02/ad_lh_rh_vs/s02.results/pb02.s02.r01.blur+tlrc.HEAD'))"
   ]
  },
  {
   "cell_type": "code",
   "execution_count": null,
   "metadata": {},
   "outputs": [],
   "source": [
    "header.get_data_shape() # naively tells you what shape .brik has"
   ]
  },
  {
   "cell_type": "markdown",
   "metadata": {},
   "source": [
    "### Data: `.brik` files"
   ]
  },
  {
   "cell_type": "markdown",
   "metadata": {},
   "source": [
    "just use `nib.load`"
   ]
  },
  {
   "cell_type": "code",
   "execution_count": 20,
   "metadata": {
    "ExecuteTime": {
     "end_time": "2020-11-03T05:43:17.109347Z",
     "start_time": "2020-11-03T05:43:17.103347Z"
    }
   },
   "outputs": [
    {
     "data": {
      "text/plain": [
       "['./s02/ad_lh_rh_vs/s02.results\\\\pb02.s02.r01.blur+tlrc.BRIK',\n",
       " './s02/ad_lh_rh_vs/s02.results\\\\pb02.s02.r01.blur+tlrc.HEAD',\n",
       " './s02/ad_lh_rh_vs/s02.results\\\\pb02.s02.r02.blur+tlrc.BRIK',\n",
       " './s02/ad_lh_rh_vs/s02.results\\\\pb02.s02.r02.blur+tlrc.HEAD',\n",
       " './s02/ad_lh_rh_vs/s02.results\\\\pb02.s02.r03.blur+tlrc.BRIK',\n",
       " './s02/ad_lh_rh_vs/s02.results\\\\pb02.s02.r03.blur+tlrc.HEAD',\n",
       " './s02/ad_lh_rh_vs/s02.results\\\\pb02.s02.r04.blur+tlrc.BRIK',\n",
       " './s02/ad_lh_rh_vs/s02.results\\\\pb02.s02.r04.blur+tlrc.HEAD']"
      ]
     },
     "execution_count": 20,
     "metadata": {},
     "output_type": "execute_result"
    }
   ],
   "source": [
    "s02_dir = './s02/ad_lh_rh_vs/s02.results/'\n",
    "brik = nib.load(f'{s02_dir}/pb02.s02.r01.blur+tlrc.BRIK')"
   ]
  },
  {
   "cell_type": "markdown",
   "metadata": {},
   "source": [
    "data consists of `(64, 76, 64)` voxels with 30 timestamps(measured with 60secs, TR=2)"
   ]
  },
  {
   "cell_type": "code",
   "execution_count": 22,
   "metadata": {
    "ExecuteTime": {
     "end_time": "2020-11-03T05:43:29.547700Z",
     "start_time": "2020-11-03T05:43:29.543669Z"
    }
   },
   "outputs": [
    {
     "data": {
      "text/plain": [
       "(64, 76, 64, 30)"
      ]
     },
     "execution_count": 22,
     "metadata": {},
     "output_type": "execute_result"
    }
   ],
   "source": [
    "brik.shape"
   ]
  },
  {
   "cell_type": "code",
   "execution_count": 35,
   "metadata": {
    "ExecuteTime": {
     "end_time": "2020-11-03T05:46:16.186901Z",
     "start_time": "2020-11-03T05:46:16.183896Z"
    }
   },
   "outputs": [],
   "source": [
    "whole = brik.get_fdata()"
   ]
  },
  {
   "cell_type": "markdown",
   "metadata": {},
   "source": [
    "## Get ROI"
   ]
  },
  {
   "cell_type": "code",
   "execution_count": 42,
   "metadata": {
    "ExecuteTime": {
     "end_time": "2020-11-03T05:48:29.014608Z",
     "start_time": "2020-11-03T05:48:29.007086Z"
    }
   },
   "outputs": [],
   "source": [
    "ad = nib.load('./stats/ttest/Clust_ad_0p00001+tlrc.BRIK.gz').get_fdata()\n",
    "\n",
    "ad_pos = [(x, y, z) for x, y, z in zip(*np.where(ad != 0)[:-1])]"
   ]
  },
  {
   "cell_type": "markdown",
   "metadata": {},
   "source": [
    "## Draw HRF with scipy.stats gamma"
   ]
  },
  {
   "cell_type": "code",
   "execution_count": 28,
   "metadata": {
    "ExecuteTime": {
     "end_time": "2020-11-03T05:45:11.066076Z",
     "start_time": "2020-11-03T05:45:11.064074Z"
    }
   },
   "outputs": [],
   "source": [
    "from scipy.stats import gamma\n",
    "import matplotlib.pyplot as plt"
   ]
  },
  {
   "cell_type": "code",
   "execution_count": 30,
   "metadata": {
    "ExecuteTime": {
     "end_time": "2020-11-03T05:45:36.476893Z",
     "start_time": "2020-11-03T05:45:36.472040Z"
    }
   },
   "outputs": [],
   "source": [
    "def sample_hrf(times):\n",
    "    \n",
    "    peak_values = gamma.pdf(times, 6)\n",
    "    undershoot_values = gamma.pdf(times, 12)\n",
    "    \n",
    "    values = peak_values - 0.35 * undershoot_values\n",
    "    return values / np.max(values) * 0.6"
   ]
  },
  {
   "cell_type": "code",
   "execution_count": 58,
   "metadata": {
    "ExecuteTime": {
     "end_time": "2020-11-03T05:52:21.417209Z",
     "start_time": "2020-11-03T05:52:21.095116Z"
    }
   },
   "outputs": [],
   "source": []
  },
  {
   "cell_type": "code",
   "execution_count": 59,
   "metadata": {
    "ExecuteTime": {
     "end_time": "2020-11-03T05:52:21.580114Z",
     "start_time": "2020-11-03T05:52:21.418114Z"
    }
   },
   "outputs": [
    {
     "data": {
      "text/plain": [
       "[<matplotlib.lines.Line2D at 0x298046d2e50>]"
      ]
     },
     "execution_count": 59,
     "metadata": {},
     "output_type": "execute_result"
    },
    {
     "data": {
      "image/png": "[encoded data removed]",
      "text/plain": [
       "<Figure size 432x288 with 1 Axes>"
      ]
     },
     "metadata": {
      "needs_background": "light"
     },
     "output_type": "display_data"
    }
   ],
   "source": [
    "plt.plot(whole[ad_pos[0]])"
   ]
  },
  {
   "cell_type": "code",
   "execution_count": 78,
   "metadata": {
    "ExecuteTime": {
     "end_time": "2020-11-03T06:09:47.563416Z",
     "start_time": "2020-11-03T06:09:47.556900Z"
    }
   },
   "outputs": [
    {
     "name": "stderr",
     "output_type": "stream",
     "text": [
      "<ipython-input-78-911f679d25d7>:1: DeprecationWarning: Calling np.sum(generator) is deprecated, and in the future will give a different result. Use np.sum(np.fromiter(generator)) or the python sum builtin instead.\n",
      "  np.sum(whole[p] for p in ad_pos) / len(ad_pos)\n"
     ]
    },
    {
     "data": {
      "text/plain": [
       "array([712.71224976, 711.59639486, 715.65416463, 714.17563883,\n",
       "       712.99129028, 713.13711141, 713.43453979, 714.50793864,\n",
       "       715.3414388 , 714.24032186, 714.13745728, 712.94888306,\n",
       "       715.91298625, 720.51322835, 716.42850545, 712.49010213,\n",
       "       711.36983846, 711.86590169, 712.38032633, 715.66875407,\n",
       "       715.06452433, 714.90030721, 713.24330037, 714.30494181,\n",
       "       714.73956502, 711.46162923, 710.234198  , 710.14152425,\n",
       "       712.74313965, 712.50687866])"
      ]
     },
     "execution_count": 78,
     "metadata": {},
     "output_type": "execute_result"
    }
   ],
   "source": [
    "np.sum(whole[p] for p in ad_pos) / len(ad_pos)"
   ]
  },
  {
   "cell_type": "code",
   "execution_count": 70,
   "metadata": {
    "ExecuteTime": {
     "end_time": "2020-11-03T06:08:17.732245Z",
     "start_time": "2020-11-03T06:08:17.622613Z"
    }
   },
   "outputs": [
    {
     "data": {
      "text/plain": [
       "[<matplotlib.lines.Line2D at 0x29804808ac0>]"
      ]
     },
     "execution_count": 70,
     "metadata": {},
     "output_type": "execute_result"
    },
    {
     "data": {
      "image/png": "[encoded data removed]",
      "text/plain": [
       "<Figure size 432x288 with 1 Axes>"
      ]
     },
     "metadata": {
      "needs_background": "light"
     },
     "output_type": "display_data"
    }
   ],
   "source": [
    "plt.plot(sample_hrf(whole[ad_pos[0]]))"
   ]
  },
  {
   "cell_type": "code",
   "execution_count": 79,
   "metadata": {
    "ExecuteTime": {
     "end_time": "2020-11-03T06:10:04.877621Z",
     "start_time": "2020-11-03T06:10:04.755310Z"
    }
   },
   "outputs": [
    {
     "name": "stderr",
     "output_type": "stream",
     "text": [
      "<ipython-input-79-98a8241b0205>:1: DeprecationWarning: Calling np.sum(generator) is deprecated, and in the future will give a different result. Use np.sum(np.fromiter(generator)) or the python sum builtin instead.\n",
      "  plt.plot(sample_hrf(np.sum(whole[p] for p in ad_pos) / len(ad_pos)))\n"
     ]
    },
    {
     "data": {
      "text/plain": [
       "[<matplotlib.lines.Line2D at 0x29804814d60>]"
      ]
     },
     "execution_count": 79,
     "metadata": {},
     "output_type": "execute_result"
    },
    {
     "data": {
      "image/png": "[encoded data removed]",
      "text/plain": [
       "<Figure size 432x288 with 1 Axes>"
      ]
     },
     "metadata": {
      "needs_background": "light"
     },
     "output_type": "display_data"
    }
   ],
   "source": [
    "plt.plot(sample_hrf(np.sum(whole[p] for p in ad_pos) / len(ad_pos)))"
   ]
  },
  {
   "cell_type": "code",
   "execution_count": 56,
   "metadata": {
    "ExecuteTime": {
     "end_time": "2020-11-03T05:51:55.819504Z",
     "start_time": "2020-11-03T05:51:55.814505Z"
    }
   },
   "outputs": [
    {
     "data": {
      "text/plain": [
       "array([2.64463601e+02, 4.42592427e+01, 3.12353212e+01, 8.07492405e-01,\n",
       "       2.81747799e+02, 3.33068299e+01, 6.62090237e+01, 3.12615998e+01,\n",
       "       4.47699506e+01, 1.15098912e+02, 3.04940925e+02, 8.91491774e+00,\n",
       "       3.04438746e+00, 6.00000000e-01, 7.07038618e+00, 2.40253724e+01,\n",
       "       3.12957111e+02, 4.81913807e+01, 1.37270725e+03, 4.99119113e+01,\n",
       "       1.78812363e+01, 6.73319981e+01, 5.64320743e+01, 1.36377371e+00,\n",
       "       5.61379371e+01, 5.88060024e+01, 8.81427692e+00, 5.68765607e+02,\n",
       "       2.61101633e+02, 1.73053251e+01])"
      ]
     },
     "execution_count": 56,
     "metadata": {},
     "output_type": "execute_result"
    }
   ],
   "source": [
    "sample_hrf(whole[ad_pos[0]])"
   ]
  },
  {
   "cell_type": "code",
   "execution_count": 66,
   "metadata": {
    "ExecuteTime": {
     "end_time": "2020-11-03T05:53:43.510023Z",
     "start_time": "2020-11-03T05:53:43.405481Z"
    }
   },
   "outputs": [
    {
     "data": {
      "text/plain": [
       "[<matplotlib.lines.Line2D at 0x298047c2940>]"
      ]
     },
     "execution_count": 66,
     "metadata": {},
     "output_type": "execute_result"
    },
    {
     "data": {
      "image/png": "[encoded data removed]",
      "text/plain": [
       "<Figure size 432x288 with 1 Axes>"
      ]
     },
     "metadata": {
      "needs_background": "light"
     },
     "output_type": "display_data"
    }
   ],
   "source": [
    "plt.plot(np.fft.fft(whole[ad_pos[0]]).imag)"
   ]
  },
  {
   "cell_type": "code",
   "execution_count": 47,
   "metadata": {
    "ExecuteTime": {
     "end_time": "2020-11-03T05:49:19.181371Z",
     "start_time": "2020-11-03T05:49:19.166856Z"
    }
   },
   "outputs": [
    {
     "data": {
      "text/plain": [
       "30.0"
      ]
     },
     "execution_count": 47,
     "metadata": {},
     "output_type": "execute_result"
    }
   ],
   "source": [
    "ad[ad!=0].sum()"
   ]
  },
  {
   "cell_type": "code",
   "execution_count": 55,
   "metadata": {
    "ExecuteTime": {
     "end_time": "2020-11-03T05:51:44.338825Z",
     "start_time": "2020-11-03T05:51:44.333824Z"
    }
   },
   "outputs": [
    {
     "data": {
      "text/plain": [
       "array([692.21069336, 694.02716064, 694.38128662, 698.09533691,\n",
       "       692.1463623 , 694.31604004, 693.61791992, 694.38043213,\n",
       "       694.01550293, 693.05603027, 692.065979  , 695.65527344,\n",
       "       696.74694824, 698.39709473, 695.89080811, 694.64794922,\n",
       "       692.03961182, 693.94067383, 690.53723145, 693.9050293 ,\n",
       "       694.94805908, 693.60083008, 693.78027344, 697.56286621,\n",
       "       693.7855835 , 693.73840332, 695.66680908, 691.43255615,\n",
       "       692.22369385, 694.98132324])"
      ]
     },
     "execution_count": 55,
     "metadata": {},
     "output_type": "execute_result"
    }
   ],
   "source": [
    "whole[ad_pos[0]]"
   ]
  },
  {
   "cell_type": "code",
   "execution_count": 53,
   "metadata": {
    "ExecuteTime": {
     "end_time": "2020-11-03T05:51:23.237164Z",
     "start_time": "2020-11-03T05:51:23.230164Z"
    }
   },
   "outputs": [
    {
     "data": {
      "text/plain": [
       "[(48, 36, 26),\n",
       " (48, 36, 27),\n",
       " (48, 36, 28),\n",
       " (48, 37, 26),\n",
       " (48, 37, 27),\n",
       " (49, 37, 27),\n",
       " (49, 38, 26),\n",
       " (49, 39, 26),\n",
       " (49, 39, 27),\n",
       " (49, 42, 25),\n",
       " (49, 43, 24),\n",
       " (50, 38, 26),\n",
       " (50, 39, 25),\n",
       " (50, 39, 26),\n",
       " (50, 39, 27),\n",
       " (50, 40, 25),\n",
       " (50, 40, 27),\n",
       " (50, 41, 25),\n",
       " (50, 42, 25),\n",
       " (50, 43, 24),\n",
       " (50, 43, 25),\n",
       " (51, 38, 26),\n",
       " (51, 39, 26),\n",
       " (51, 40, 25),\n",
       " (51, 40, 26),\n",
       " (51, 41, 25),\n",
       " (51, 43, 24),\n",
       " (51, 44, 24),\n",
       " (52, 39, 26),\n",
       " (52, 40, 26)]"
      ]
     },
     "execution_count": 53,
     "metadata": {},
     "output_type": "execute_result"
    }
   ],
   "source": [
    "ad_pos"
   ]
  },
  {
   "cell_type": "code",
   "execution_count": null,
   "metadata": {},
   "outputs": [],
   "source": []
  }
 ],
 "metadata": {
  "kernelspec": {
   "display_name": "Python 3",
   "language": "python",
   "name": "python3"
  },
  "language_info": {
   "codemirror_mode": {
    "name": "ipython",
    "version": 3
   },
   "file_extension": ".py",
   "mimetype": "text/x-python",
   "name": "python",
   "nbconvert_exporter": "python",
   "pygments_lexer": "ipython3",
   "version": "3.8.3"
  },
  "toc": {
   "base_numbering": 1,
   "nav_menu": {},
   "number_sections": true,
   "sideBar": true,
   "skip_h1_title": false,
   "title_cell": "Table of Contents",
   "title_sidebar": "Contents",
   "toc_cell": false,
   "toc_position": {},
   "toc_section_display": true,
   "toc_window_display": false
  }
 },
 "nbformat": 4,
 "nbformat_minor": 4
}
